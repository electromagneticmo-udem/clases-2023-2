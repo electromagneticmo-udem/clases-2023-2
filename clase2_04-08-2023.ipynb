{
 "cells": [
  {
   "cell_type": "markdown",
   "metadata": {},
   "source": [
    "Enlace..."
   ]
  },
  {
   "cell_type": "code",
   "execution_count": 142,
   "metadata": {},
   "outputs": [],
   "source": [
    "from sympy.vector import CoordSys3D, express\n",
    "from sympy import symbols\n",
    "from sympy import Symbol\n",
    "from sympy import sin, cos, tan\n",
    "from sympy.matrices import Matrix\n",
    "\n",
    "x, y, z = symbols('x y z')\n",
    "rho, phi, theta = symbols('rho phi theta', real=True, negative=False)\n",
    "\n",
    "# Matrices de transformacion\n",
    "M = Matrix([[cos(phi),sin(phi),0], [-sin(phi),cos(phi),0],[0,0,1]])"
   ]
  },
  {
   "cell_type": "markdown",
   "metadata": {},
   "source": [
    "# Sistemas Coordenados y transformaciones"
   ]
  },
  {
   "cell_type": "markdown",
   "metadata": {},
   "source": [
    "Dados el punto $P(-2, 6, 3)$ y el vector \n",
    "\n",
    "$\\mathbf{\\vec{A}} = y*\\mathbf{\\hat{a_{x}}} + (x+z)*\\mathbf{\\hat{a_{y}}}$,  exprese $P$ y $\\mathbf{\\vec{A}}$ en coordenadas cilíndricas. Evalúe $P$ y $\\mathbf{\\vec{A}}$ en los sistemas cartesiano, cilíndrico y esférico.\n"
   ]
  },
  {
   "cell_type": "markdown",
   "metadata": {},
   "source": [
    "**Coordenadas cartesianas**"
   ]
  },
  {
   "cell_type": "code",
   "execution_count": 165,
   "metadata": {},
   "outputs": [],
   "source": [
    "# Definicion del sistema coordenado cartesiano\n",
    "C = CoordSys3D('C', \n",
    "               vector_names = ('a_x', 'a_y', 'a_z'),\n",
    "               variable_names = ('x', 'y', 'z'))  # Sistema coordenado cartesiano\n",
    "\n",
    "a_x, a_y, a_z = C.base_vectors()\n",
    "# Definicion del punto P en coordenadas cartesianas\n",
    "P = -2*a_x + 6*a_y + 3*a_z\n",
    "\n",
    "# Decinicion del campo vectorial en coordenadas cartesianas\n",
    "A_x = y\n",
    "A_y = (x + z)\n",
    "\n",
    "A = A_x*a_x + A_y*a_y"
   ]
  },
  {
   "cell_type": "code",
   "execution_count": 166,
   "metadata": {},
   "outputs": [
    {
     "data": {
      "text/latex": [
       "$\\displaystyle \\left(-2\\right)\\mathbf{\\hat{a_x}_{C}} + \\left(6\\right)\\mathbf{\\hat{a_y}_{C}} + \\left(3\\right)\\mathbf{\\hat{a_z}_{C}}$"
      ],
      "text/plain": [
       "(-2)*C.a_x + 6*C.a_y + 3*C.a_z"
      ]
     },
     "execution_count": 166,
     "metadata": {},
     "output_type": "execute_result"
    }
   ],
   "source": [
    "# Despliegue del punto P en coordenadas cartesianas\n",
    "P"
   ]
  },
  {
   "cell_type": "code",
   "execution_count": 167,
   "metadata": {},
   "outputs": [
    {
     "data": {
      "text/latex": [
       "$\\displaystyle \\left(\\rho \\sin{\\left(\\phi \\right)}\\right)\\mathbf{\\hat{a_x}_{C}} + \\left(\\rho \\cos{\\left(\\phi \\right)} + z\\right)\\mathbf{\\hat{a_y}_{C}}$"
      ],
      "text/plain": [
       "(rho*sin(phi))*C.a_x + (rho*cos(phi) + z)*C.a_y"
      ]
     },
     "execution_count": 167,
     "metadata": {},
     "output_type": "execute_result"
    }
   ],
   "source": [
    "# Despliegue del campo vectorial en coordenadas cartesianas\n",
    "A "
   ]
  },
  {
   "cell_type": "code",
   "execution_count": 169,
   "metadata": {},
   "outputs": [
    {
     "data": {
      "text/latex": [
       "$\\displaystyle \\left(6.0\\right)\\mathbf{\\hat{a_x}_{C}} + \\mathbf{\\hat{a_y}_{C}}$"
      ],
      "text/plain": [
       "6.0*C.a_x + 1.0*C.a_y"
      ]
     },
     "execution_count": 169,
     "metadata": {},
     "output_type": "execute_result"
    }
   ],
   "source": [
    "# Evaluacion A(P) = A(-2, 6, 3)\n",
    "A_P = A.evalf(subs={x: P.components[a_x], y: P.components[a_y], z: P.components[a_z]})\n",
    "A_P"
   ]
  },
  {
   "cell_type": "markdown",
   "metadata": {},
   "source": [
    "**Coordenadas cilindricas**"
   ]
  },
  {
   "cell_type": "code",
   "execution_count": 184,
   "metadata": {},
   "outputs": [],
   "source": [
    "# Definicion del sistema coordenado cartesiano\n",
    "Cyl = CoordSys3D('P', transformation='cylindrical',\n",
    "                vector_names = ('a_{\\\\rho}', 'a_{\\phi}', 'a_{\\z}'),\n",
    "                variable_names = ('rho', 'phi', 'z'))  # Sistema coordenado cartesiano\n",
    "a_rho, a_phi, a_z = Cyl.base_vectors()\n",
    "# Conversion de variables cilindricas\n",
    "x = rho*cos(phi)\n",
    "y = rho*sin(phi)\n",
    "\n",
    "# Transformacion de componentes\n",
    "A_rho = A_x*cos(phi) + A_y*sin(phi)\n",
    "A_phi = -A_x*sin(phi) + A_y*cos(phi)\n",
    "\n",
    "A = A_rho*a_rho + A_phi*a_phi"
   ]
  },
  {
   "cell_type": "code",
   "execution_count": 186,
   "metadata": {},
   "outputs": [
    {
     "data": {
      "text/latex": [
       "$\\displaystyle \\left(- \\rho \\sin^{2}{\\left(\\phi \\right)} + \\left(\\rho \\cos{\\left(\\phi \\right)} + z\\right) \\cos{\\left(\\phi \\right)}\\right)\\mathbf{\\hat{a_{\\phi}}_{P}} + \\left(\\rho \\sin{\\left(\\phi \\right)} \\cos{\\left(\\phi \\right)} + \\left(\\rho \\cos{\\left(\\phi \\right)} + z\\right) \\sin{\\left(\\phi \\right)}\\right)\\mathbf{\\hat{a_{\\rho}}_{P}}$"
      ],
      "text/plain": [
       "(rho*sin(phi)*cos(phi) + (rho*cos(phi) + z)*sin(phi))*P.a_{\\rho} + (-rho*sin(phi)**2 + (rho*cos(phi) + z)*cos(phi))*P.a_{\\phi}"
      ]
     },
     "execution_count": 186,
     "metadata": {},
     "output_type": "execute_result"
    }
   ],
   "source": [
    "# Campo vectorial en coordenadas cilindricas\n",
    "A "
   ]
  },
  {
   "cell_type": "code",
   "execution_count": 189,
   "metadata": {},
   "outputs": [
    {
     "name": "stdout",
     "output_type": "stream",
     "text": [
      "rho\n",
      "8.48528137423857\n"
     ]
    }
   ],
   "source": [
    "# Punto P en coordenadas cilindricas\n",
    "\n",
    "P_rho = rho\n",
    "print(P_rho)\n",
    "P_rho = P_rho.evalf(subs={rho: sqrt(P.components[a_x]**2 + P.components[a_y]**2)})\n",
    "print(P_rho)\n",
    "\n",
    "\n",
    "#A_P = A.evalf(subs={x: P.components[a_x], y: P.components[a_y], z: P.components[a_z]})"
   ]
  },
  {
   "cell_type": "code",
   "execution_count": 42,
   "metadata": {},
   "outputs": [
    {
     "data": {
      "text/latex": [
       "$\\displaystyle \\operatorname{CoordSys3D}\\left(N, \\left( \\left[\\begin{matrix}1 & 0 & 0\\\\0 & 1 & 0\\\\0 & 0 & 1\\end{matrix}\\right], \\  \\mathbf{\\hat{0}}\\right)\\right)$"
      ],
      "text/plain": [
       "N"
      ]
     },
     "execution_count": 42,
     "metadata": {},
     "output_type": "execute_result"
    }
   ],
   "source": [
    "N"
   ]
  },
  {
   "cell_type": "code",
   "execution_count": 50,
   "metadata": {},
   "outputs": [
    {
     "name": "stdout",
     "output_type": "stream",
     "text": [
      "(N.i, N.j, N.k)\n",
      "(N.x, N.y, N.z)\n"
     ]
    }
   ],
   "source": [
    "print(N.base_vectors())\n",
    "print(N.base_scalars())\n"
   ]
  },
  {
   "cell_type": "code",
   "execution_count": 87,
   "metadata": {},
   "outputs": [
    {
     "name": "stdout",
     "output_type": "stream",
     "text": [
      "Matrix([[cos(phi), sin(phi), 0], [-sin(phi), cos(phi), 0], [0, 0, 1]])\n",
      "Matrix([[rho*sin(phi)], [rho*cos(phi) + z], [0]])\n",
      "Matrix([[rho*sin(phi)*cos(phi) + (rho*cos(phi) + z)*sin(phi)], [-rho*sin(phi)**2 + (rho*cos(phi) + z)*cos(phi)], [0]])\n"
     ]
    }
   ],
   "source": [
    "Ax = y\n",
    "Ay = x + z\n",
    "Az = 0\n",
    "print(M)\n",
    "C = CoordSys3D('C')\n",
    "A_C = Matrix([[Ax],[Ay],[Az]])\n",
    "A_P = M*A_C\n",
    "print(A_C)\n",
    "print(A_P)\n",
    "#\n",
    "# comp = A_C.components\n",
    "#A_P = express(A_C, P)\n",
    "#print(A_C)\n",
    "#print(A_P)\n",
    "\n",
    "#comp[C.i] = comp[C.i].evalf(subs = {x:rho*cos(phi), y: rho*sin(phi)})\n",
    "#comp[C.j] = comp[C.j].evalf(subs = {x:rho*cos(phi), y: rho*sin(phi)})\n",
    "# comp[C.k] = comp[C.k].evalf(subs = {x:rho*cos(phi), y: rho*sin(phi)})\n",
    "#print(comp[C.i])\n",
    "#print(comp[C.j])\n",
    "\n",
    "#P = C.orient_new_axis('P', phi, C.k)  \n",
    "#A_P = express(A_C, P)\n",
    "#print(A_P)"
   ]
  },
  {
   "cell_type": "code",
   "execution_count": 91,
   "metadata": {},
   "outputs": [
    {
     "data": {
      "text/latex": [
       "$\\displaystyle \\rho \\sin{\\left(\\phi \\right)}$"
      ],
      "text/plain": [
       "rho*sin(phi)"
      ]
     },
     "execution_count": 91,
     "metadata": {},
     "output_type": "execute_result"
    }
   ],
   "source": [
    "Ax"
   ]
  },
  {
   "cell_type": "code",
   "execution_count": 88,
   "metadata": {},
   "outputs": [
    {
     "data": {
      "text/latex": [
       "$\\displaystyle \\left[\\begin{matrix}\\rho \\sin{\\left(\\phi \\right)}\\\\\\rho \\cos{\\left(\\phi \\right)} + z\\\\0\\end{matrix}\\right]$"
      ],
      "text/plain": [
       "Matrix([\n",
       "[    rho*sin(phi)],\n",
       "[rho*cos(phi) + z],\n",
       "[               0]])"
      ]
     },
     "execution_count": 88,
     "metadata": {},
     "output_type": "execute_result"
    }
   ],
   "source": [
    "A_C"
   ]
  },
  {
   "cell_type": "code",
   "execution_count": 89,
   "metadata": {},
   "outputs": [
    {
     "data": {
      "text/latex": [
       "$\\displaystyle \\left[\\begin{matrix}\\rho \\sin{\\left(\\phi \\right)} \\cos{\\left(\\phi \\right)} + \\left(\\rho \\cos{\\left(\\phi \\right)} + z\\right) \\sin{\\left(\\phi \\right)}\\\\- \\rho \\sin^{2}{\\left(\\phi \\right)} + \\left(\\rho \\cos{\\left(\\phi \\right)} + z\\right) \\cos{\\left(\\phi \\right)}\\\\0\\end{matrix}\\right]$"
      ],
      "text/plain": [
       "Matrix([\n",
       "[rho*sin(phi)*cos(phi) + (rho*cos(phi) + z)*sin(phi)],\n",
       "[     -rho*sin(phi)**2 + (rho*cos(phi) + z)*cos(phi)],\n",
       "[                                                  0]])"
      ]
     },
     "execution_count": 89,
     "metadata": {},
     "output_type": "execute_result"
    }
   ],
   "source": [
    "A_P"
   ]
  },
  {
   "cell_type": "code",
   "execution_count": 90,
   "metadata": {},
   "outputs": [],
   "source": [
    "# sigue la expresion en terminos de los vectores"
   ]
  },
  {
   "cell_type": "code",
   "execution_count": null,
   "metadata": {},
   "outputs": [],
   "source": []
  },
  {
   "cell_type": "markdown",
   "metadata": {},
   "source": [
    "## Referencias\n",
    "\n",
    "1. https://github.com/weijie-chen/Linear-Algebra-With-Python\n",
    "2. https://docs.sympy.org/latest/modules/vector/coordsys.html\n",
    "3. https://minireference.com/static/tutorials/sympy_tutorial.pdf\n",
    "4. https://www.pydy.org/examples/beginners_tutorial.html\n",
    "5. https://opentext.uleth.ca/Math3410/sec-sympy.html\n",
    "6. https://lyryx.com/linear-algebra-applications/\n",
    "7. https://docs.sympy.org/latest/modules/physics/mechanics/index.html\n",
    "8. https://github.com/pydy/pydy\n",
    "9. https://mathinsight.org/cartesian_coordinates\n",
    "10. http://balbuceosastropy.blogspot.com/2015/04/change-of-curvilinear-coordinates-with.html\n",
    "11. https://github.com/sympy/sympy/tree/master/examples/notebooks\n",
    "12. https://docs.sympy.org/latest/modules/vector/api/classes.html\n",
    "13. https://medium.com/math-simplified/vector-algebra-with-sympy-dot-products-6152535ed21a\n",
    "14. https://medium.com/@mathcube7/vector-algebra-with-sympy-projections-5ba79975a788"
   ]
  }
 ],
 "metadata": {
  "kernelspec": {
   "display_name": "Python 3",
   "language": "python",
   "name": "python3"
  },
  "language_info": {
   "codemirror_mode": {
    "name": "ipython",
    "version": 3
   },
   "file_extension": ".py",
   "mimetype": "text/x-python",
   "name": "python",
   "nbconvert_exporter": "python",
   "pygments_lexer": "ipython3",
   "version": "3.9.13"
  },
  "orig_nbformat": 4
 },
 "nbformat": 4,
 "nbformat_minor": 2
}
